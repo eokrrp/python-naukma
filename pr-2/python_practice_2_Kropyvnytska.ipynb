{
  "nbformat": 4,
  "nbformat_minor": 0,
  "metadata": {
    "colab": {
      "provenance": []
    },
    "kernelspec": {
      "name": "python3",
      "display_name": "Python 3"
    },
    "language_info": {
      "name": "python"
    }
  },
  "cells": [
    {
      "cell_type": "markdown",
      "source": [
        "# I. Змінні та памʼять."
      ],
      "metadata": {
        "id": "p9wwt0LZzNvn"
      }
    },
    {
      "cell_type": "markdown",
      "source": [
        "1. Створити змінні, що посилаються на два цілих числа, що однакові за значенням, де значення належить проміжку від -5 до 256. Перевірте, чи будуть ці змінні рівні тільки за значенням або ж ще будуть посилатися на один і той самий обʼєкт в памʼяті? Наведіть код та дайте текстову відповідь нижче."
      ],
      "metadata": {
        "id": "HTJrrm95xSV9"
      }
    },
    {
      "cell_type": "code",
      "execution_count": 1,
      "metadata": {
        "id": "TATni2vzayjG",
        "colab": {
          "base_uri": "https://localhost:8080/"
        },
        "outputId": "00cf38ce-4292-4f5c-cbe5-07855c759029"
      },
      "outputs": [
        {
          "output_type": "stream",
          "name": "stdout",
          "text": [
            "True\n",
            "True\n"
          ]
        }
      ],
      "source": [
        "a = 8;\n",
        "b = 8;\n",
        "print(a==b);\n",
        "print(a is b);"
      ]
    },
    {
      "cell_type": "markdown",
      "source": [
        "У Python цілі числа в межах від -5 до 256 кешуються, тобто для кожного числа з цього діапазону створюється лише один об'єкт у пам'яті, і всі змінні з однаковим значенням посилаються на цей об'єкт.\n",
        "\n",
        "Отже, якщо створити дві змінні з однаковими значеннями з діапазону від -5 до 256, вони будуть посилатися на один і той самий об'єкт у пам'яті."
      ],
      "metadata": {
        "id": "zfRG_o3WbRdg"
      }
    },
    {
      "cell_type": "markdown",
      "source": [
        "2. За допомогою якої функції можна перевірити належність змінної до вказаного типу даних (напр. чи змінна True посилається на значення булевого та цілочисленого типу)?"
      ],
      "metadata": {
        "id": "ISORzt6M3vAt"
      }
    },
    {
      "cell_type": "code",
      "source": [
        "x = True\n",
        "\n",
        "print(isinstance(x, bool))\n",
        "print(isinstance(x, int))\n",
        "print(isinstance(x, str))"
      ],
      "metadata": {
        "id": "9vL9CFaMbfyo",
        "colab": {
          "base_uri": "https://localhost:8080/"
        },
        "outputId": "c1442f3a-4410-456a-f721-c92d7563f0a1"
      },
      "execution_count": 3,
      "outputs": [
        {
          "output_type": "stream",
          "name": "stdout",
          "text": [
            "True\n",
            "True\n",
            "False\n"
          ]
        }
      ]
    },
    {
      "cell_type": "markdown",
      "source": [
        "# II. Цілі числа та числа з рухомою комою"
      ],
      "metadata": {
        "id": "tRxugKAxwYLw"
      }
    },
    {
      "cell_type": "markdown",
      "source": [
        "3. Створити дві змінні, що посилаються на будь-які ціле число та число з рухомою комою та продемонструвати такі арифметичні операції: додавання, віднімання, ділення, множення, ділення без залишку, ділення по модулю, приведення до ступеню. Всі результати операцій вивести на екран."
      ],
      "metadata": {
        "id": "NLHkgd5Gybc8"
      }
    },
    {
      "cell_type": "code",
      "source": [
        "integer_num = 10\n",
        "float_num = 3.5\n",
        "\n",
        "addition_result = integer_num + float_num\n",
        "print(\"Додавання:\", addition_result)\n",
        "\n",
        "subtraction_result = integer_num - float_num\n",
        "print(\"Віднімання:\", subtraction_result)\n",
        "\n",
        "division_result = integer_num / float_num\n",
        "print(\"Ділення:\", division_result)\n",
        "\n",
        "multiplication_result = integer_num * float_num\n",
        "print(\"Множення:\", multiplication_result)\n",
        "\n",
        "floor_division_result = integer_num // float_num\n",
        "print(\"Ділення без залишку:\", floor_division_result)\n",
        "\n",
        "modulo_result = integer_num % float_num\n",
        "print(\"Ділення по модулю:\", modulo_result)\n",
        "\n",
        "exponentiation_result = integer_num ** 2\n",
        "print(\"Приведення до ступеню:\", exponentiation_result)\n"
      ],
      "metadata": {
        "id": "nb8u_3pjb2cA",
        "colab": {
          "base_uri": "https://localhost:8080/"
        },
        "outputId": "c5016ec9-e7aa-4c46-a9f8-52242496d79b"
      },
      "execution_count": 4,
      "outputs": [
        {
          "output_type": "stream",
          "name": "stdout",
          "text": [
            "Додавання: 13.5\n",
            "Віднімання: 6.5\n",
            "Ділення: 2.857142857142857\n",
            "Множення: 35.0\n",
            "Ділення без залишку: 2.0\n",
            "Ділення по модулю: 3.0\n",
            "Приведення до ступеню: 100\n"
          ]
        }
      ]
    },
    {
      "cell_type": "markdown",
      "source": [
        "4. Використовуючи змінні з вправи 3, продемонструйте механізм явного перетворення типів, де числа з рухомою комою перетворюються на цілі числа. Також визначте змінну, що посилається на значення булевого типу і спробуйте явно привести її до цілого числа."
      ],
      "metadata": {
        "id": "1kBClKgPzZnC"
      }
    },
    {
      "cell_type": "code",
      "source": [
        "integer_num = 10\n",
        "float_num = 3.5\n",
        "bool_value = True\n",
        "\n",
        "float_to_int = int(float_num)\n",
        "print(\"Перетворення числа з рухомою комою на ціле число:\", float_to_int)\n",
        "\n",
        "bool_to_int = int(bool_value)\n",
        "print(\"Перетворення значення булевого типу на ціле число:\", bool_to_int)\n"
      ],
      "metadata": {
        "id": "TbqJbkeUcKsD",
        "colab": {
          "base_uri": "https://localhost:8080/"
        },
        "outputId": "30d3eac0-08da-46b4-a7ed-6d3a4caecda7"
      },
      "execution_count": 5,
      "outputs": [
        {
          "output_type": "stream",
          "name": "stdout",
          "text": [
            "Перетворення числа з рухомою комою на ціле число: 3\n",
            "Перетворення значення булевого типу на ціле число: 1\n"
          ]
        }
      ]
    },
    {
      "cell_type": "markdown",
      "source": [
        "# IІІ. Рядки (String)."
      ],
      "metadata": {
        "id": "EVJ7AflwxrZi"
      }
    },
    {
      "cell_type": "markdown",
      "source": [
        "5. Створити пустий рядок двома різними способами."
      ],
      "metadata": {
        "id": "_s5ECzz9zE61"
      }
    },
    {
      "cell_type": "code",
      "source": [
        "empty_string = \"\"\n",
        "empty_string = str()"
      ],
      "metadata": {
        "id": "fkZJHu9Scvc-"
      },
      "execution_count": 6,
      "outputs": []
    },
    {
      "cell_type": "markdown",
      "source": [
        "6. Створити рядок з апострофом. Зробити його сирим. Вивести обидва рядка на екран."
      ],
      "metadata": {
        "id": "4Bdn9J3MzLf_"
      }
    },
    {
      "cell_type": "code",
      "source": [
        "string_with_apostrophe = \"Hello'\"\n",
        "raw_string_with_apostrophe = r\"Hello'\"\n",
        "\n",
        "print(string_with_apostrophe)\n",
        "print(raw_string_with_apostrophe)"
      ],
      "metadata": {
        "id": "ivji_hsmc0GH",
        "colab": {
          "base_uri": "https://localhost:8080/"
        },
        "outputId": "ce1ff57a-397d-4c6d-cd54-c70c7bef43b6"
      },
      "execution_count": 7,
      "outputs": [
        {
          "output_type": "stream",
          "name": "stdout",
          "text": [
            "Hello'\n",
            "Hello'\n"
          ]
        }
      ]
    },
    {
      "cell_type": "markdown",
      "source": [
        "7. Створити змінну, що буде посилатися на Ваше прізвище латинкою. Створити форматований рядок, який буде мати вигляд \"My surname is ______\", де на місці нижніх підкреслень буде Ваше прізвище зі змінної."
      ],
      "metadata": {
        "id": "bg_d8wM4z8dS"
      }
    },
    {
      "cell_type": "code",
      "source": [
        "surname = \"Kropyvnytska\"\n",
        "hello_string = f'My surname is {surname}'\n",
        "\n",
        "print(hello_string)"
      ],
      "metadata": {
        "id": "kuxFgpWndACq",
        "colab": {
          "base_uri": "https://localhost:8080/"
        },
        "outputId": "3abd3371-1433-40fa-9170-aa3b24ea8354"
      },
      "execution_count": 8,
      "outputs": [
        {
          "output_type": "stream",
          "name": "stdout",
          "text": [
            "My surname is Kropyvnytska\n"
          ]
        }
      ]
    },
    {
      "cell_type": "markdown",
      "source": [
        "8. Маючи рядок \"My dog is crazy.\" перетворити його на список [\"my\", \"dog\", \"is\", \"crazy\"]"
      ],
      "metadata": {
        "id": "1Nc6RqvQ0hxU"
      }
    },
    {
      "cell_type": "code",
      "source": [
        "string = \"My dog is crazy\"\n",
        "\n",
        "print(string.lower().split())"
      ],
      "metadata": {
        "id": "w1Ya4RqedUhw",
        "colab": {
          "base_uri": "https://localhost:8080/"
        },
        "outputId": "c828e7dc-9687-4146-eaf4-b056fbf6732e"
      },
      "execution_count": 11,
      "outputs": [
        {
          "output_type": "stream",
          "name": "stdout",
          "text": [
            "['my', 'dog', 'is', 'crazy']\n"
          ]
        }
      ]
    },
    {
      "cell_type": "markdown",
      "source": [
        "# IV. Робота зі списками."
      ],
      "metadata": {
        "id": "GYVqN9uP1D4n"
      }
    },
    {
      "cell_type": "markdown",
      "source": [
        "9. Створити список двома різними за синтаксисом способами. За допомогою вбудованої функції обчисліть довжину одного з них."
      ],
      "metadata": {
        "id": "7-DeDunw2sO-"
      }
    },
    {
      "cell_type": "code",
      "source": [
        "my_list1 = [1, 2, 3, 4, 5]\n",
        "\n",
        "my_list2 = list(range(5))\n",
        "\n",
        "print(len(my_list2))"
      ],
      "metadata": {
        "id": "zxg06Uuxdyoh",
        "colab": {
          "base_uri": "https://localhost:8080/"
        },
        "outputId": "1fa4a4ad-7644-4b73-93d7-096129e899da"
      },
      "execution_count": 12,
      "outputs": [
        {
          "output_type": "stream",
          "name": "stdout",
          "text": [
            "5\n"
          ]
        }
      ]
    },
    {
      "cell_type": "markdown",
      "source": [
        "10. Створіть два списка та за допомогою спеціального методу додайте другий з них в якості останнього елемента першого."
      ],
      "metadata": {
        "id": "8vmGUTjL22gI"
      }
    },
    {
      "cell_type": "code",
      "source": [
        "first_list = [1, 2, 3, 4]\n",
        "second_list = [5, 6, 7, 8]\n",
        "\n",
        "first_list.extend([second_list])\n",
        "\n",
        "print(\"Перший список після додавання другого списку:\", first_list)\n"
      ],
      "metadata": {
        "id": "uHtjWYw7d7hm",
        "colab": {
          "base_uri": "https://localhost:8080/"
        },
        "outputId": "b3cd3dab-ca04-43a8-fbb2-642537313e1b"
      },
      "execution_count": 13,
      "outputs": [
        {
          "output_type": "stream",
          "name": "stdout",
          "text": [
            "Перший список після додавання другого списку: [1, 2, 3, 4, [5, 6, 7, 8]]\n"
          ]
        }
      ]
    },
    {
      "cell_type": "markdown",
      "source": [
        "11. Створіть список, де елементами цього списку також є списки. Отримай перший елемент з останнього рядка та виведи значення на екран."
      ],
      "metadata": {
        "id": "JC3BkD-67_--"
      }
    },
    {
      "cell_type": "code",
      "source": [
        "list_of_lists = [\n",
        "    [1, 2, 3],\n",
        "    [4, 5, 6],\n",
        "    [7, 8, 9]\n",
        "]\n",
        "\n",
        "last_row = list_of_lists[-1]\n",
        "first_element_of_last_row = last_row[0]\n",
        "\n",
        "print(\"Перший елемент з останнього рядка:\", first_element_of_last_row)\n"
      ],
      "metadata": {
        "id": "Kz2jZHsGeLlz",
        "colab": {
          "base_uri": "https://localhost:8080/"
        },
        "outputId": "85ed6ee8-d3ae-4f93-9905-def81ba4269b"
      },
      "execution_count": 14,
      "outputs": [
        {
          "output_type": "stream",
          "name": "stdout",
          "text": [
            "Перший елемент з останнього рядка: 7\n"
          ]
        }
      ]
    },
    {
      "cell_type": "markdown",
      "source": [
        "12. Створіть список з десяти елементів різного типу. Отримайте всі елементи, окрім двох перших та двох останніх та збережіть їх в новій змінній."
      ],
      "metadata": {
        "id": "JA47PKTv8zFK"
      }
    },
    {
      "cell_type": "code",
      "source": [
        "my_list = [1, 'two', 3.0, True, [5, 6], 'seven', {'eight': 8}, None, 9, 10]\n",
        "\n",
        "new_list = my_list[2:-2]\n",
        "\n",
        "print(\"Новий список з елементів, окрім двох перших та двох останніх:\", new_list)\n"
      ],
      "metadata": {
        "id": "_rHdUR-ueP4-",
        "colab": {
          "base_uri": "https://localhost:8080/"
        },
        "outputId": "98647a65-c2a0-4f2d-ee4e-ce04aa6413b1"
      },
      "execution_count": 15,
      "outputs": [
        {
          "output_type": "stream",
          "name": "stdout",
          "text": [
            "Новий список з елементів, окрім двох перших та двох останніх: [3.0, True, [5, 6], 'seven', {'eight': 8}, None]\n"
          ]
        }
      ]
    },
    {
      "cell_type": "markdown",
      "source": [
        "# V. Робота з кортежами."
      ],
      "metadata": {
        "id": "pCjR1dJb1Qbi"
      }
    },
    {
      "cell_type": "markdown",
      "source": [
        "14. Створити кортеж з один елементом."
      ],
      "metadata": {
        "id": "fAZCxAX06R_k"
      }
    },
    {
      "cell_type": "code",
      "source": [
        "my_tuple = (42,)"
      ],
      "metadata": {
        "id": "H7d82WkQev3e"
      },
      "execution_count": null,
      "outputs": []
    },
    {
      "cell_type": "markdown",
      "source": [
        "15. Порівняйте список та кортеж. Назвіть схожості та відмінності, випадки використання."
      ],
      "metadata": {
        "id": "8LCtYcmI6w1M"
      }
    },
    {
      "cell_type": "markdown",
      "source": [
        "Схожість:\n",
        "\n",
        "\n",
        "*   можливість зберігати багато знаечнь\n",
        "*   індексація та слайси\n",
        "*   можливість ітерації\n",
        "\n",
        "Відмінності:\n",
        "\n",
        "*   список - mutable, кортежі - immutable\n",
        "*   різний синтаксис\n",
        "*   кортеж швидший по перформансу, і Python може оптимізовувати його через іммютабільність\n",
        "\n",
        "Випадки використання:\n",
        "\n",
        "*   кортежі - коли потрібна незмінювана колекція елементів, особливо якщо ці елементи не будуть змінюватися протягом усього життя програми, або якщо потрібна гарантія незмінності даних. Кортежі також можуть бути корисні, коли нам потрібно використовувати структуру даних як ключ у словнику, оскільки кортежі hashable, а списки - ні.\n",
        "*   списки - коли нам потрібна структура даних, і нам часто доводиться додавати, видаляти або змінювати елементи.\n",
        "\n"
      ],
      "metadata": {
        "id": "fUsN1Hnue0C6"
      }
    },
    {
      "cell_type": "markdown",
      "source": [
        "16. Створіть кортеж з 11ти елементів чисел з рухомою комою та отримайте кожен парний за індексом елемент в зворотньому порядку. Наприклад, маючи (1.2, 2.3, 3.3, 4.3, 5.3, 6.3, 7.3, 8.3, 9.3, 0.3), отримати (0.3, 8.3, 6.3, 4.3, 2.3). Результат збережіть в нову змінну та виведіть на екран."
      ],
      "metadata": {
        "id": "m0xrwFijAmDD"
      }
    },
    {
      "cell_type": "code",
      "source": [
        "my_tuple = (1.0, 1.1, 1.2, 1.3, 1.4, 1.5, 1.6, 1.7, 1.8, 1.9, 1.10)\n",
        "\n",
        "result = my_tuple[::-2]\n",
        "\n",
        "print(result)\n"
      ],
      "metadata": {
        "id": "p-5DAH6XfAGA",
        "colab": {
          "base_uri": "https://localhost:8080/"
        },
        "outputId": "27c4d9ef-9488-4fa8-8a91-4cda82fd1d49"
      },
      "execution_count": 17,
      "outputs": [
        {
          "output_type": "stream",
          "name": "stdout",
          "text": [
            "(1.1, 1.8, 1.6, 1.4, 1.2, 1.0)\n"
          ]
        }
      ]
    },
    {
      "cell_type": "markdown",
      "source": [
        "# VI. Множини (Set)."
      ],
      "metadata": {
        "id": "rW_I9dt3x6cW"
      }
    },
    {
      "cell_type": "markdown",
      "source": [
        "17. Створити множину без елементів. Після цого за допомогою методу додайте кілька різних елементів до множини. Чи множини є змінним типом даних?"
      ],
      "metadata": {
        "id": "zNjRLHLw1Bgg"
      }
    },
    {
      "cell_type": "code",
      "source": [
        "my_set = set()\n",
        "\n",
        "my_set.add(1)\n",
        "my_set.add(2)\n",
        "my_set.add(3)\n",
        "\n",
        "print(my_set)\n"
      ],
      "metadata": {
        "id": "KOv7zc2Kfo4N",
        "colab": {
          "base_uri": "https://localhost:8080/"
        },
        "outputId": "573d8a82-a4ad-41cc-ca32-28b20a8dab05"
      },
      "execution_count": 18,
      "outputs": [
        {
          "output_type": "stream",
          "name": "stdout",
          "text": [
            "{1, 2, 3}\n"
          ]
        }
      ]
    },
    {
      "cell_type": "markdown",
      "source": [
        "Так, змінний тип даних"
      ],
      "metadata": {
        "id": "vxS6dVYiftZQ"
      }
    },
    {
      "cell_type": "markdown",
      "source": [
        "18. Створити множину, маючи список my_list = [1, 1, 2, 67, 67, 8, 9]. Пояснити, чому \"зникли\" деякі елементи."
      ],
      "metadata": {
        "id": "gHpT0Zw_1HEF"
      }
    },
    {
      "cell_type": "code",
      "source": [
        "my_list = [1, 1, 2, 67, 67, 8, 9]\n",
        "my_set = set(my_list)\n",
        "print(my_set)\n"
      ],
      "metadata": {
        "id": "qCN4uvJ_fxmu",
        "colab": {
          "base_uri": "https://localhost:8080/"
        },
        "outputId": "312bfc1c-0a6c-4427-9506-242fd8dbdbbf"
      },
      "execution_count": 19,
      "outputs": [
        {
          "output_type": "stream",
          "name": "stdout",
          "text": [
            "{1, 2, 67, 8, 9}\n"
          ]
        }
      ]
    },
    {
      "cell_type": "markdown",
      "source": [
        "Бо множина (set) - це структура даних з унікальними елементами."
      ],
      "metadata": {
        "id": "tFNc1e20fyny"
      }
    },
    {
      "cell_type": "markdown",
      "source": [
        "19. Створіть дві множини. Продемонстуйте над ними операції: обʼєднання, різниці, пересічі та симетричної різниці. Використовуйте методи, що не змінюють множини, а створюють нові."
      ],
      "metadata": {
        "id": "SRMkGizS1UwY"
      }
    },
    {
      "cell_type": "code",
      "source": [
        "set1 = {1, 2, 3, 4, 5}\n",
        "set2 = {4, 5, 6, 7, 8}\n",
        "\n",
        "union_set = set1.union(set2)\n",
        "print(\"Об'єднання множин:\", union_set)\n",
        "\n",
        "difference_set = set1.difference(set2)\n",
        "print(\"Різниця множин set1 - set2:\", difference_set)\n",
        "difference_set = set2.difference(set1)\n",
        "print(\"Різниця множин set2 - set1:\", difference_set)\n",
        "\n",
        "intersection_set = set1.intersection(set2)\n",
        "print(\"Перетин множин:\", intersection_set)\n",
        "\n",
        "symmetric_difference_set = set1.symmetric_difference(set2)\n",
        "print(\"Симетрична різниця множин:\", symmetric_difference_set)\n"
      ],
      "metadata": {
        "id": "h0T-VuDnf3Ri",
        "colab": {
          "base_uri": "https://localhost:8080/"
        },
        "outputId": "c83a45d2-460e-480f-dee4-f3f524f67308"
      },
      "execution_count": 20,
      "outputs": [
        {
          "output_type": "stream",
          "name": "stdout",
          "text": [
            "Об'єднання множин: {1, 2, 3, 4, 5, 6, 7, 8}\n",
            "Різниця множин set1 - set2: {1, 2, 3}\n",
            "Різниця множин set2 - set1: {8, 6, 7}\n",
            "Перетин множин: {4, 5}\n",
            "Симетрична різниця множин: {1, 2, 3, 6, 7, 8}\n"
          ]
        }
      ]
    },
    {
      "cell_type": "markdown",
      "source": [
        "# VII. Словники (Dictionary)."
      ],
      "metadata": {
        "id": "kWc8gkzTx7Ea"
      }
    },
    {
      "cell_type": "markdown",
      "source": [
        "20. Створіть пустий словник. До нього додайте чотири пари елементів такі, щоб їхні ключі були різних типів. Чи може список бути ключем? Чому?"
      ],
      "metadata": {
        "id": "i5FLwj-B2ybQ"
      }
    },
    {
      "cell_type": "code",
      "source": [
        "my_dict = {}\n",
        "\n",
        "my_dict[1] = 'integer key'\n",
        "my_dict['two'] = 'string key'\n",
        "my_dict[3.14] = 'float key'\n",
        "my_dict[(4, 5)] = 'tuple key'\n",
        "\n",
        "print(my_dict)\n"
      ],
      "metadata": {
        "id": "hxgv3BzrgLAV",
        "colab": {
          "base_uri": "https://localhost:8080/"
        },
        "outputId": "8d1f2cfd-b754-4932-e32f-5e2ab3b10a5c"
      },
      "execution_count": 22,
      "outputs": [
        {
          "output_type": "stream",
          "name": "stdout",
          "text": [
            "{1: 'integer key', 'two': 'string key', 3.14: 'float key', (4, 5): 'tuple key'}\n"
          ]
        }
      ]
    },
    {
      "cell_type": "markdown",
      "source": [
        " Python дозволяє використовувати не змінювані об'єкти як ключі, оскільки вони хешовані (hashable). Списки, як змінювані об'єкти, не можуть бути використані як ключі словника, оскільки вони не є хешованими. Це зроблено для забезпечення стійкості та ефективності операцій доступу до елементів словника."
      ],
      "metadata": {
        "id": "zwa7UVN-gR3m"
      }
    },
    {
      "cell_type": "markdown",
      "source": [
        "21. Створіть словник, де значенням в одній з пар теж буде словник, який теж має вкладений словник. Виведіть на екран значення, що міститься в словнику, що знаходиться на найнижчому рівні ієрархії вкладеності (найбільш внутрішній)."
      ],
      "metadata": {
        "id": "WM_pMlJsgoNf"
      }
    },
    {
      "cell_type": "code",
      "source": [
        "inner_dict = {'inner_key': 'inner_value'}\n",
        "\n",
        "outer_dict = {'outer_key': inner_dict}\n",
        "\n",
        "print(\"Значення з найбільш внутрішнього словника:\", outer_dict['outer_key']['inner_key'])\n"
      ],
      "metadata": {
        "id": "60dlP7IHhAy4",
        "colab": {
          "base_uri": "https://localhost:8080/"
        },
        "outputId": "7b64990a-7232-4ea6-b865-2735bf7dec30"
      },
      "execution_count": 23,
      "outputs": [
        {
          "output_type": "stream",
          "name": "stdout",
          "text": [
            "Значення з найбільш внутрішнього словника: inner_value\n"
          ]
        }
      ]
    },
    {
      "cell_type": "markdown",
      "source": [
        "# Вітаю! Ви велика(ий) молодець, що впоралась(вся). Похваліть себе та побалуйте чимось приємним. Я Вами пишаюся."
      ],
      "metadata": {
        "id": "xOZP0hkx6cCr"
      }
    }
  ]
}