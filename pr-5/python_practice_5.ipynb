{
  "nbformat": 4,
  "nbformat_minor": 0,
  "metadata": {
    "colab": {
      "provenance": []
    },
    "kernelspec": {
      "name": "python3",
      "display_name": "Python 3"
    },
    "language_info": {
      "name": "python"
    }
  },
  "cells": [
    {
      "cell_type": "markdown",
      "source": [
        "# I. OOP"
      ],
      "metadata": {
        "id": "5qV_sehzFCTp"
      }
    },
    {
      "cell_type": "markdown",
      "source": [
        "1. (6б). Створіть клас Animal, додайте три атрибути, один з яких має значення за замовчуванням та два методи на свій розсуд."
      ],
      "metadata": {
        "id": "tx_U_hOALyfg"
      }
    },
    {
      "cell_type": "code",
      "source": [
        "class Animal:\n",
        "    def __init__(self, species, maxSpeed, sound='Roar'):\n",
        "        self.species = species\n",
        "        self.maxSpeed = maxSpeed\n",
        "        self.sound = sound\n",
        "\n",
        "    def make_sound(self):\n",
        "        print(f\"The {self.species} makes a {self.sound}!\")\n",
        "\n",
        "    def move(self):\n",
        "        print(f\"The {self.species} moves at a speed of {self.speed} km/h.\")\n"
      ],
      "metadata": {
        "id": "-Vf895KaL88N"
      },
      "execution_count": null,
      "outputs": []
    },
    {
      "cell_type": "markdown",
      "source": [
        "2. (2б). Створіть два обʼєкти цього класу, де один з обʼєктів створюється із дефолтним значенням атрибуту. На одному обʼєкті отримайте значення його атрибуту, а на іншому викличте один з його методів."
      ],
      "metadata": {
        "id": "X_UlOMB0L93w"
      }
    },
    {
      "cell_type": "code",
      "source": [
        "animal1 = Animal('Lion', 80)\n",
        "animal2 = Animal('Cheetah', 120, 'Growl')\n",
        "\n",
        "print(f\"Default attribute of Lion: {animal1.sound}\")\n",
        "animal2.make_sound()"
      ],
      "metadata": {
        "id": "7gBu0ESOMCpG",
        "colab": {
          "base_uri": "https://localhost:8080/"
        },
        "outputId": "d3c214d2-ea4b-4cfe-d88c-1b525dc5158d"
      },
      "execution_count": null,
      "outputs": [
        {
          "output_type": "stream",
          "name": "stdout",
          "text": [
            "Default attribute of Lion: Roar\n",
            "The Cheetah makes a Growl!\n"
          ]
        }
      ]
    },
    {
      "cell_type": "markdown",
      "source": [
        "3. (5б). Створіть клас, де атрибути мають різні рівні доступу. Спробуйте отримати їхні значення та опишіть результати."
      ],
      "metadata": {
        "id": "HoqSCZt1MHn5"
      }
    },
    {
      "cell_type": "code",
      "source": [
        "class Example:\n",
        "    def __init__(self):\n",
        "        self.public_attribute = \"This is a public attribute.\"\n",
        "        self._protected_attribute = \"This is a protected attribute.\"\n",
        "        self.__private_attribute = \"This is a private attribute.\"\n",
        "\n",
        "    def get_private_attribute(self):\n",
        "        return self.__private_attribute\n",
        "\n",
        "obj = Example()\n",
        "\n",
        "print(\"Public attribute:\", obj.public_attribute)\n",
        "print(\"Protected attribute:\", obj._protected_attribute)\n",
        "# Спроба доступу до приватного атрибуту за межами класу буде викликати помилку\n",
        "# print(\"Private attribute:\", obj.__private_attribute)\n",
        "\n",
        "# Але можна отримати доступ до приватного атрибуту через метод класу\n",
        "print(\"Private attribute (accessed through method):\", obj.get_private_attribute())\n"
      ],
      "metadata": {
        "id": "r9b3vJxBMSPV",
        "colab": {
          "base_uri": "https://localhost:8080/"
        },
        "outputId": "212bed17-e9c4-45cb-e3fd-baddfd584ee8"
      },
      "execution_count": null,
      "outputs": [
        {
          "output_type": "stream",
          "name": "stdout",
          "text": [
            "Public attribute: This is a public attribute.\n",
            "Protected attribute: This is a protected attribute.\n",
            "Private attribute (accessed through method): This is a private attribute.\n"
          ]
        }
      ]
    },
    {
      "cell_type": "markdown",
      "source": [
        "4. (7б). Як ви розумієте термін self? Для чого використовується метод __init __?"
      ],
      "metadata": {
        "id": "5op2m2vgMSkZ"
      }
    },
    {
      "cell_type": "markdown",
      "source": [
        "Термін self у Python використовується для посилання на поточний об'єкт класу в методах. Аналогом у інших мовах може бути ключове слово \"this\".\n",
        "__init__ - це функція-конструктор обʼєкта."
      ],
      "metadata": {
        "id": "DyiPqNRvMasx"
      }
    },
    {
      "cell_type": "markdown",
      "source": [
        "5. (9б). Створіть клас Фігура без атрибутів, з методом get_area для отримання площі фігури, що повертає 0 та __add __, який приймає self та other в якості аргументів, а повертає суму площин фігур self та other."
      ],
      "metadata": {
        "id": "-6X8EGfjMd2y"
      }
    },
    {
      "cell_type": "code",
      "source": [
        "class Figure:\n",
        "    def get_area(self):\n",
        "        return 0\n",
        "\n",
        "    def __add__(self, other):\n",
        "        return self.get_area() + other.get_area()\n"
      ],
      "metadata": {
        "id": "4rvO_wYUMaEr"
      },
      "execution_count": null,
      "outputs": []
    },
    {
      "cell_type": "markdown",
      "source": [
        "6. (11б). Створіть 2 дочірніх класи від Фігури: Трикутник та Коло, які мають атрибути, необхідні для розрахунку площин. Визначте метод get_area в кожному з них так, щоби вони розраховували площу в залежності від формули для кожного типу фігури. Створіть обʼєкт класу Трикутник та обʼєкт класу Коло. Виконайте операцію суми за допомогою оператора + між ними."
      ],
      "metadata": {
        "id": "SFcKnnv5Mo_z"
      }
    },
    {
      "cell_type": "code",
      "source": [
        "import math\n",
        "\n",
        "class Figure:\n",
        "    def get_area(self):\n",
        "        return 0\n",
        "\n",
        "    def __add__(self, other):\n",
        "        return self.get_area() + other.get_area()\n",
        "\n",
        "class Triangle(Figure):\n",
        "    def __init__(self, base, height):\n",
        "        self.base = base\n",
        "        self.height = height\n",
        "\n",
        "    def get_area(self):\n",
        "        return 0.5 * self.base * self.height\n",
        "\n",
        "class Circle(Figure):\n",
        "    def __init__(self, radius):\n",
        "        self.radius = radius\n",
        "\n",
        "    def get_area(self):\n",
        "        return math.pi * self.radius ** 2\n",
        "\n",
        "triangle = Triangle(5, 8)\n",
        "circle = Circle(3)\n",
        "\n",
        "triangle_area = triangle.get_area()\n",
        "circle_area = circle.get_area()\n",
        "\n",
        "total_area = triangle + circle\n",
        "\n",
        "print(\"Area of Triangle:\", triangle_area)\n",
        "print(\"Area of Circle:\", circle_area)\n",
        "print(\"Total Area:\", total_area)"
      ],
      "metadata": {
        "id": "H3GVNr69Muf3",
        "colab": {
          "base_uri": "https://localhost:8080/"
        },
        "outputId": "75c87c19-176d-4202-c1c9-e41d710480d7"
      },
      "execution_count": null,
      "outputs": [
        {
          "output_type": "stream",
          "name": "stdout",
          "text": [
            "Area of Triangle: 20.0\n",
            "Area of Circle: 28.274333882308138\n",
            "Total Area: 48.27433388230814\n"
          ]
        }
      ]
    },
    {
      "cell_type": "markdown",
      "source": [
        "7. (3б). Продемонструйте різницю між isinstance та issubclass."
      ],
      "metadata": {
        "id": "HCvR206YMvLK"
      }
    },
    {
      "cell_type": "code",
      "source": [
        "print(isinstance(triangle, Triangle))\n",
        "print(isinstance(triangle, Figure))\n",
        "print(isinstance(triangle, Circle))\n",
        "\n",
        "print(issubclass(Triangle, Figure))\n",
        "print(issubclass(Circle, Figure))\n",
        "print(issubclass(Figure, Triangle))"
      ],
      "metadata": {
        "id": "L_V1bBvDM0GN"
      },
      "execution_count": null,
      "outputs": []
    },
    {
      "cell_type": "markdown",
      "source": [
        "8. (13б). Створіть клас BankAccount з приватними атрибутами balance та account_number. Реалізуйте методи поповнення та зняття коштів, забезпечивши належну інкапсуляцію. Підказка: використовуйте декоратори property та setter."
      ],
      "metadata": {
        "id": "jjsaBZ-iM0Qq"
      }
    },
    {
      "cell_type": "code",
      "source": [
        "class BankAccount:\n",
        "    def __init__(self, account_number, initial_balance=0):\n",
        "        self._account_number = account_number\n",
        "        self._balance = initial_balance\n",
        "\n",
        "    @property\n",
        "    def balance(self):\n",
        "        return self._balance\n",
        "\n",
        "    @property\n",
        "    def account_number(self):\n",
        "        return self._account_number\n",
        "\n",
        "    def deposit(self, amount):\n",
        "        if amount > 0:\n",
        "            self._balance += amount\n",
        "            print(f\"Deposit of {amount} completed. New balance: {self._balance}\")\n",
        "        else:\n",
        "            print(\"Invalid amount for deposit.\")\n",
        "\n",
        "    def withdraw(self, amount):\n",
        "        if 0 < amount <= self._balance:\n",
        "            self._balance -= amount\n",
        "            print(f\"Withdrawal of {amount} completed. New balance: {self._balance}\")\n",
        "        else:\n",
        "            print(\"Insufficient funds or invalid amount for withdrawal.\")\n",
        "\n",
        "account = BankAccount(\"123456789\", 1000)\n",
        "print(\"Account Number:\", account.account_number)\n",
        "print(\"Initial Balance:\", account.balance)\n",
        "\n",
        "account.deposit(500)\n",
        "account.withdraw(200)\n",
        "\n",
        "print(\"Final Balance:\", account.balance)\n"
      ],
      "metadata": {
        "id": "xCvZ7lh8M7YA"
      },
      "execution_count": null,
      "outputs": []
    },
    {
      "cell_type": "markdown",
      "source": [
        "9. (11б). Створіть клас Library, який містить список об'єктів типу Book. Реалізуйте методи для додавання книги, видалення книги та відображення списку книг."
      ],
      "metadata": {
        "id": "tIzL2SJTM8ft"
      }
    },
    {
      "cell_type": "code",
      "source": [
        "class Book:\n",
        "    def __init__(self, title, author):\n",
        "        self.title = title\n",
        "        self.author = author\n",
        "\n",
        "class Library:\n",
        "    def __init__(self):\n",
        "        self.books = []\n",
        "\n",
        "    def add_book(self, book):\n",
        "        self.books.append(book)\n",
        "        print(f\"Book '{book.title}' by {book.author} added to the library.\")\n",
        "\n",
        "    def remove_book(self, title):\n",
        "        for book in self.books:\n",
        "            if book.title == title:\n",
        "                self.books.remove(book)\n",
        "                print(f\"Book '{title}' removed from the library.\")\n",
        "                return\n",
        "        print(f\"Book '{title}' not found in the library.\")\n",
        "\n",
        "    def display_books(self):\n",
        "        if self.books:\n",
        "            print(\"Books in the library:\")\n",
        "            for book in self.books:\n",
        "                print(f\"- '{book.title}' by {book.author}\")\n",
        "        else:\n",
        "            print(\"The library is empty.\")\n",
        "\n",
        "library = Library()\n",
        "\n",
        "book1 = Book(\"The Great Gatsby\", \"F. Scott Fitzgerald\")\n",
        "book2 = Book(\"To Kill a Mockingbird\", \"Harper Lee\")\n",
        "book3 = Book(\"1984\", \"George Orwell\")\n",
        "\n",
        "library.add_book(book1)\n",
        "library.add_book(book2)\n",
        "library.add_book(book3)\n",
        "\n",
        "library.display_books()\n",
        "\n",
        "library.remove_book(\"To Kill a Mockingbird\")\n",
        "\n",
        "library.display_books()\n"
      ],
      "metadata": {
        "id": "HWxfJKLtNAUZ"
      },
      "execution_count": null,
      "outputs": []
    },
    {
      "cell_type": "markdown",
      "source": [
        "10. (13б). Створіть клас Person з атрибутами name та age. Створіть ще один клас Employee з такими атрибутами, як department та salary. Створіть клас Manager, який успадковує обидва класи Person та Employee. Продемонструйте використання множинної спадковості, створивши обʼєкт класу Manager та отримавши mro для цього класу."
      ],
      "metadata": {
        "id": "lmV8pAwwNIqu"
      }
    },
    {
      "cell_type": "code",
      "source": [
        "class Person:\n",
        "    def __init__(self, name, age):\n",
        "        self.name = name\n",
        "        self.age = age\n",
        "\n",
        "class Employee:\n",
        "    def __init__(self, department, salary):\n",
        "        self.department = department\n",
        "        self.salary = salary\n",
        "\n",
        "class Manager(Person, Employee):\n",
        "    def __init__(self, name, age, department, salary):\n",
        "        Person.__init__(self, name, age)\n",
        "        Employee.__init__(self, department, salary)\n",
        "\n",
        "manager = Manager(\"John Doe\", 40, \"Engineering\", 60000)\n",
        "\n",
        "print(\"Manager's name:\", manager.name)\n",
        "print(\"Manager's age:\", manager.age)\n",
        "print(\"Manager's department:\", manager.department)\n",
        "print(\"Manager's salary:\", manager.salary)\n",
        "\n",
        "print(\"Method Resolution Order (MRO) for Manager class:\", Manager.mro())\n"
      ],
      "metadata": {
        "id": "R49grKlWNPeN"
      },
      "execution_count": null,
      "outputs": []
    },
    {
      "cell_type": "markdown",
      "source": [
        "# II. Iterator"
      ],
      "metadata": {
        "id": "dIJyUiNBFG8G"
      }
    },
    {
      "cell_type": "markdown",
      "source": [
        "11. (4б). Визначте рядок(str) з 4ма різними за значенням символами. Створіть ітератор на основі цього рядка. Викличте 5 разів функцію next на ітераторі, 4ри перших з них огорніть у ф-цію print()."
      ],
      "metadata": {
        "id": "13vsm0NyKIzL"
      }
    },
    {
      "cell_type": "code",
      "source": [
        "my_string = \"abcd\"\n",
        "\n",
        "my_iterator = iter(my_string)\n",
        "\n",
        "for _ in range(5):\n",
        "    try:\n",
        "        next_value = next(my_iterator)\n",
        "        if _ < 4:\n",
        "            print(next_value)\n",
        "    except StopIteration:\n",
        "        print(\"End of iterator reached.\")\n",
        "        break\n"
      ],
      "metadata": {
        "id": "81ntabAkKuz-"
      },
      "execution_count": null,
      "outputs": []
    },
    {
      "cell_type": "markdown",
      "source": [
        "А що якщо викликати цю ж функцію на рядку?"
      ],
      "metadata": {
        "id": "aekWHGXOLRsO"
      }
    },
    {
      "cell_type": "code",
      "source": [
        "Якщо викликати функцію next() на рядку, виникне помилка, оскільки рядок не є iterable об'єктом і не має методу __next__(), який потрібен для реалізації ітератора."
      ],
      "metadata": {
        "id": "mxATGsErLV1i"
      },
      "execution_count": null,
      "outputs": []
    },
    {
      "cell_type": "markdown",
      "source": [
        " 12. (5б). Опишіть своїми словами в одному реченні, як ви розумієте різницю між ітерабельними обʼєктами та ітераторами (можна на прикладі)."
      ],
      "metadata": {
        "id": "XwtMEopwJ4pH"
      }
    },
    {
      "cell_type": "markdown",
      "source": [
        "\n",
        "Ітерабельні об'єкти - це об'єкти, які можна перебирати за допомогою ітератора, такі як списки, рядки, кортежі; в той час як ітератори - це своєрідні інструменти, які дозволяють ітерабельним об'єктам бути ітерабельними. Саме вони і реалізують всю цю логіку ітерабельності."
      ],
      "metadata": {
        "id": "-sHrODc3KFn8"
      }
    },
    {
      "cell_type": "markdown",
      "source": [
        "13. (11б). Створіть клас, що має визначений Iterator Protocol та при кожному виклику next повертає літери англійської абетки, поки вони не вичерпаються."
      ],
      "metadata": {
        "id": "E9qJWmNbK8Gl"
      }
    },
    {
      "cell_type": "code",
      "source": [
        "class AlphabetIterator:\n",
        "    def __init__(self):\n",
        "        self.current_char = ord('a')\n",
        "\n",
        "    def __iter__(self):\n",
        "        return self\n",
        "\n",
        "    def __next__(self):\n",
        "        if self.current_char <= ord('z'):\n",
        "            char = chr(self.current_char)\n",
        "            self.current_char += 1\n",
        "            return char\n",
        "        else:\n",
        "            raise StopIteration\n",
        "\n",
        "alphabet_iterator = AlphabetIterator()\n",
        "\n",
        "for char in alphabet_iterator:\n",
        "    print(char)\n"
      ],
      "metadata": {
        "id": "cqx-g_RsLo6I",
        "colab": {
          "base_uri": "https://localhost:8080/"
        },
        "outputId": "f8ec96df-0d31-408e-f347-3ec575314a9b"
      },
      "execution_count": 1,
      "outputs": [
        {
          "output_type": "stream",
          "name": "stdout",
          "text": [
            "a\n",
            "b\n",
            "c\n",
            "d\n",
            "e\n",
            "f\n",
            "g\n",
            "h\n",
            "i\n",
            "j\n",
            "k\n",
            "l\n",
            "m\n",
            "n\n",
            "o\n",
            "p\n",
            "q\n",
            "r\n",
            "s\n",
            "t\n",
            "u\n",
            "v\n",
            "w\n",
            "x\n",
            "y\n",
            "z\n"
          ]
        }
      ]
    },
    {
      "cell_type": "markdown",
      "source": [
        "# Вітаю! Ви велика(ий) молодець, що впоралась(вся). Похваліть себе та побалуйте чимось приємним. Я Вами пишаюся."
      ],
      "metadata": {
        "id": "Z3E3S_s1Fv7-"
      }
    }
  ]
}